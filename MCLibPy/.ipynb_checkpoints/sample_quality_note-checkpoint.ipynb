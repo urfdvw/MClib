{
 "cells": [
  {
   "cell_type": "markdown",
   "metadata": {},
   "source": [
    "# Test sample_quality.py functions"
   ]
  },
  {
   "cell_type": "code",
   "execution_count": 82,
   "metadata": {},
   "outputs": [
    {
     "data": {
      "text/plain": [
       "<module 'sample_quality' from 'C:\\\\Users\\\\hechu\\\\Documents\\\\GitHub\\\\MClib\\\\MCLibPy\\\\sample_quality.py'>"
      ]
     },
     "execution_count": 82,
     "metadata": {},
     "output_type": "execute_result"
    }
   ],
   "source": [
    "from scipy.stats import multivariate_normal as mvn\n",
    "import numpy as np\n",
    "import matplotlib.pyplot as plt\n",
    "\n",
    "import sample_quality as sq\n",
    "import functions as fn\n",
    "\n",
    "import importlib\n",
    "importlib.reload(sq)\n",
    "# https://www.geeksforgeeks.org/reloading-modules-python/"
   ]
  },
  {
   "cell_type": "markdown",
   "metadata": {},
   "source": [
    "## Measures\n",
    "\n",
    "### ESS\n",
    "\n",
    "$$ESS = \\sum_{m}\\frac{1}{{w^{(m)}}^2}$$\n",
    "ESS is between 1 and N. We can devide it by N to normalize ESS over sample size\n",
    "\n",
    "$$\\frac{ESS}{N} = \\frac{1}{N} \\sum_{m}\\frac{1}{{w^{(m)}}^2}$$\n",
    "\n",
    "### KLD\n",
    "The paricles can be written as a pdf constructed by a group of weighted delta functions:\n",
    "$$\\pi'(x)=\\sum_m w^{(m)}\\delta(x-x^{(m)})$$\n",
    "Then,\n",
    "$$\\begin{array}{l}\n",
    "D_{\\mathrm{KL}} \\left(\\pi \\left(x\\right)||\\pi^{\\prime } \\left(x\\right)\\right)=\\int \\pi \\left(x\\right)\\left\\lbrack \\mathrm{log}\\left(\\pi \\left(x\\right)\\right)-\\mathrm{log}\\left(\\sum_m w^{\\left(m\\right)} \\delta \\left(x-x^{\\left(m\\right)} \\right)\\right)\\right\\rbrack \\\\\n",
    "=\\int \\pi \\left(x\\right)\\mathrm{log}\\left(\\pi \\left(x\\right)\\right)\\mathit{dx}-\\int \\pi \\left(x\\right)\\mathrm{log}\\left(\\sum_m w^{\\left(m\\right)} \\delta \\left(x-x^{\\left(m\\right)} \\right)\\right)\\mathit{dx}\\\\\n",
    "=\\mathrm{constant}-\\sum_m \\int \\pi \\left(x\\right)\\mathrm{log}\\left(w^{\\left(m\\right)} \\right)\\delta \\left(x-x^{\\left(m\\right)} \\right)\\;\\mathit{dx}\\\\\n",
    "=\\mathrm{constant}-\\sum_m \\pi \\left(x^{\\left(m\\right)} \\right)\\mathrm{log}\\left(w^{\\left(m\\right)} \\right)\n",
    "\\end{array}$$\n",
    "If target distribution is fixed, we only need to compare\n",
    "$$ -\\sum_m \\pi \\left(x^{\\left(m\\right)} \\right)\\mathrm{log}\\left(w^{\\left(m\\right)} \\right)$$"
   ]
  },
  {
   "cell_type": "markdown",
   "metadata": {},
   "source": [
    "## Quality vs shift"
   ]
  },
  {
   "cell_type": "code",
   "execution_count": 92,
   "metadata": {},
   "outputs": [
    {
     "data": {
      "image/png": "[encoded data removed]",
      "text/plain": [
       "<Figure size 432x288 with 1 Axes>"
      ]
     },
     "metadata": {
      "needs_background": "light"
     },
     "output_type": "display_data"
    },
    {
     "name": "stdout",
     "output_type": "stream",
     "text": [
      "-610.4062050794942\n",
      "5622.048913948439\n"
     ]
    }
   ],
   "source": [
    "# globals\n",
    "D = 2\n",
    "N = 10000\n",
    "\n",
    "# define target function\n",
    "pi = lambda x: mvn.pdf(x, mean=0*np.ones(shape=D),cov=np.eye(D))\n",
    "\n",
    "# define sampling process\n",
    "def sample(tau):\n",
    "    mu = np.ones(shape=D)\n",
    "    mu[0] = tau\n",
    "    x = mvn.rvs(mean=mu, cov=np.eye(D),size=N)\n",
    "    return x\n",
    "    \n",
    "\n",
    "# define containers\n",
    "KLD_log = []\n",
    "tau = np.linspace(-5.0,5.0,100)\n",
    "for i in range(len(tau)):\n",
    "    x = sample(tau[i])\n",
    "    KLD_log.append(sq.KLD(x, pi))\n",
    "plt.figure()\n",
    "plt.plot(tau, KLD_log)\n",
    "plt.show()\n",
    "x=sample(0)\n",
    "print(-np.sum(pi(x)))\n",
    "print(sq.KLD(x,pi))"
   ]
  },
  {
   "cell_type": "code",
   "execution_count": null,
   "metadata": {},
   "outputs": [],
   "source": []
  },
  {
   "cell_type": "code",
   "execution_count": null,
   "metadata": {},
   "outputs": [],
   "source": []
  }
 ],
 "metadata": {
  "kernelspec": {
   "display_name": "Python 3",
   "language": "python",
   "name": "python3"
  },
  "language_info": {
   "codemirror_mode": {
    "name": "ipython",
    "version": 3
   },
   "file_extension": ".py",
   "mimetype": "text/x-python",
   "name": "python",
   "nbconvert_exporter": "python",
   "pygments_lexer": "ipython3",
   "version": "3.6.8"
  }
 },
 "nbformat": 4,
 "nbformat_minor": 2
}
