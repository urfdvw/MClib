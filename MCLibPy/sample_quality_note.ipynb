{
 "cells": [
  {
   "cell_type": "markdown",
   "metadata": {},
   "source": [
    "# Test sample_quality.py functions"
   ]
  },
  {
   "cell_type": "code",
   "execution_count": 40,
   "metadata": {},
   "outputs": [
    {
     "data": {
      "text/plain": [
       "<module 'sample_quality' from 'C:\\\\Users\\\\hechu\\\\Documents\\\\GitHub\\\\MClib\\\\MCLibPy\\\\sample_quality.py'>"
      ]
     },
     "execution_count": 40,
     "metadata": {},
     "output_type": "execute_result"
    }
   ],
   "source": [
    "from scipy.stats import multivariate_normal as mvn\n",
    "import numpy as np\n",
    "import matplotlib.pyplot as plt\n",
    "\n",
    "import sample_quality as sq\n",
    "import functions as fn\n",
    "\n",
    "import importlib\n",
    "importlib.reload(sq)\n",
    "# https://www.geeksforgeeks.org/reloading-modules-python/"
   ]
  },
  {
   "cell_type": "markdown",
   "metadata": {},
   "source": [
    "## Measures\n",
    "\n",
    "### ESS\n",
    "\n",
    "$$ESS = \\sum_{m}\\frac{1}{{w^{(m)}}^2}$$\n",
    "ESS is between 1 and N. We can devide it by N to normalize ESS over sample size\n",
    "\n",
    "$$\\frac{ESS}{N} = \\frac{1}{N} \\sum_{m}\\frac{1}{{w^{(m)}}^2}$$"
   ]
  },
  {
   "cell_type": "markdown",
   "metadata": {},
   "source": [
    "## Quality vs shift"
   ]
  },
  {
   "cell_type": "code",
   "execution_count": 50,
   "metadata": {},
   "outputs": [
    {
     "data": {
      "text/plain": [
       "[<matplotlib.lines.Line2D at 0x25c2ca506d8>]"
      ]
     },
     "execution_count": 50,
     "metadata": {},
     "output_type": "execute_result"
    },
    {
     "data": {
      "image/png": "[encoded data removed]",
      "text/plain": [
       "<Figure size 432x288 with 1 Axes>"
      ]
     },
     "metadata": {
      "needs_background": "light"
     },
     "output_type": "display_data"
    }
   ],
   "source": [
    "# define target function\n",
    "D = 2\n",
    "pi = lambda x: mvn.logpdf(x, mean=0*np.ones(shape=D),cov=np.eye(D))\n",
    "\n",
    "# define sampling process\n",
    "def sample(tau):\n",
    "    N = 10000\n",
    "    mu = np.ones(shape=D)\n",
    "    mu[0] = tau\n",
    "    x = mvn.rvs(mean=mu, cov=np.eye(D),size=N)\n",
    "    return x\n",
    "    \n",
    "\n",
    "# define containers\n",
    "ESSoverN_log = []\n",
    "tau = np.linspace(-5.0,5.0,100)\n",
    "for i in range(len(tau)):\n",
    "    x = sample(tau[i])\n",
    "    ESSoverN_log.append(sq.ESSoverN(fn.logw2w(pi(x))))\n",
    "plt.figure()\n",
    "plt.plot(tau, ESSoverN_log)"
   ]
  },
  {
   "cell_type": "code",
   "execution_count": null,
   "metadata": {},
   "outputs": [],
   "source": []
  },
  {
   "cell_type": "code",
   "execution_count": null,
   "metadata": {},
   "outputs": [],
   "source": []
  }
 ],
 "metadata": {
  "kernelspec": {
   "display_name": "Python 3",
   "language": "python",
   "name": "python3"
  },
  "language_info": {
   "codemirror_mode": {
    "name": "ipython",
    "version": 3
   },
   "file_extension": ".py",
   "mimetype": "text/x-python",
   "name": "python",
   "nbconvert_exporter": "python",
   "pygments_lexer": "ipython3",
   "version": "3.6.8"
  }
 },
 "nbformat": 4,
 "nbformat_minor": 2
}
